{
 "cells": [
  {
   "cell_type": "code",
   "execution_count": 41,
   "metadata": {},
   "outputs": [],
   "source": [
    "import boto3\n",
    "import pprint\n",
    "import json\n",
    "\n",
    "pp = pprint.PrettyPrinter(indent=4)\n",
    "\n",
    "# login for boto3 credentials\n",
    "boto3.setup_default_session(profile_name='root-AWSAdministratorAccess')\n",
    "client = boto3.client('bedrock')\n",
    "bedrock_runtime_client = boto3.client('bedrock-runtime')"
   ]
  },
  {
   "cell_type": "code",
   "execution_count": null,
   "metadata": {},
   "outputs": [],
   "source": [
    "# models details\n",
    "response = client.list_foundation_models()\n",
    "models = response['modelSummaries']\n",
    "models_details = [f\"{model['providerName']}, {model['modelName']}, {model['modelId']}, {model['modelArn']}, inputModalities: {','.join(model['inputModalities'])}, outputModalities: {','.join(model['outputModalities'])}\" for model in models]\n",
    "models_details.sort()\n",
    "print('\\n'.join(models_details))"
   ]
  },
  {
   "cell_type": "code",
   "execution_count": null,
   "metadata": {},
   "outputs": [],
   "source": [
    "prompt  = 'list three names of people'\n",
    "body = json.dumps(\n",
    "                {\n",
    "                    \"prompt\": prompt,\n",
    "                    \"maxTokens\": 500,\n",
    "                    \"temperature\": 0,\n",
    "                    \"stopSequences\": [],\n",
    "                })\n",
    "res = bedrock_runtime_client.invoke_model(modelId='ai21.j2-ultra', body=body)\n",
    "response_body = json.loads(res.get(\"body\").read())\n",
    "response_body"
   ]
  }
 ],
 "metadata": {
  "kernelspec": {
   "display_name": ".venv",
   "language": "python",
   "name": "python3"
  },
  "language_info": {
   "codemirror_mode": {
    "name": "ipython",
    "version": 3
   },
   "file_extension": ".py",
   "mimetype": "text/x-python",
   "name": "python",
   "nbconvert_exporter": "python",
   "pygments_lexer": "ipython3",
   "version": "3.11.5"
  }
 },
 "nbformat": 4,
 "nbformat_minor": 2
}
