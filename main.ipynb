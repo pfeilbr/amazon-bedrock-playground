{
 "cells": [
  {
   "cell_type": "code",
   "execution_count": null,
   "metadata": {},
   "outputs": [],
   "source": [
    "import boto3\n",
    "import json\n",
    "import pprint\n",
    "import os\n",
    "from dotenv import load_dotenv\n",
    "load_dotenv()\n",
    "\n",
    "pp = pprint.PrettyPrinter(indent=2)\n",
    "\n",
    "# login for boto3 credentials\n",
    "boto3.setup_default_session(profile_name=os.environ['AWS_PROFILE_NAME'])\n",
    "client = boto3.client('bedrock')\n",
    "bedrock_runtime_client = boto3.client('bedrock-runtime')\n",
    "\n",
    "boto3.client('sts').get_caller_identity()"
   ]
  },
  {
   "cell_type": "code",
   "execution_count": null,
   "metadata": {},
   "outputs": [],
   "source": [
    "# models details\n",
    "response = client.list_foundation_models()\n",
    "models = response['modelSummaries']\n",
    "models_details = [f\"{model['providerName']}, {model['modelName']}, {model['modelId']}, {model['modelArn']}, inputModalities: {','.join(model['inputModalities'])}, outputModalities: {','.join(model['outputModalities'])}\" for model in models]\n",
    "models_details.sort()\n",
    "print('\\n'.join(models_details))"
   ]
  },
  {
   "cell_type": "code",
   "execution_count": null,
   "metadata": {},
   "outputs": [],
   "source": [
    "# text prompt -> text generation\n",
    "prompt  = 'list three names of people'\n",
    "body = json.dumps(\n",
    "                {\n",
    "                    \"prompt\": prompt,\n",
    "                    \"maxTokens\": 500,\n",
    "                    \"temperature\": 0,\n",
    "                    \"stopSequences\": [],\n",
    "                })\n",
    "response = bedrock_runtime_client.invoke_model(modelId='ai21.j2-ultra', body=body)\n",
    "response_body = json.loads(response.get(\"body\").read())\n",
    "response_body"
   ]
  },
  {
   "cell_type": "code",
   "execution_count": null,
   "metadata": {},
   "outputs": [],
   "source": [
    "# stream response\n",
    "# Define prompt and model parameters\n",
    "prompt_data = \"\"\"Write an essay about why someone should drink coffee\"\"\"\n",
    "\n",
    "text_gen_config = {\n",
    "    \"maxTokenCount\": 1000,\n",
    "    \"stopSequences\": [], \n",
    "    \"temperature\": 0,\n",
    "    \"topP\": 0.9\n",
    "}\n",
    "\n",
    "body = json.dumps({\n",
    "    \"inputText\": prompt_data,\n",
    "    \"textGenerationConfig\": text_gen_config  \n",
    "})\n",
    "\n",
    "model_id = 'amazon.titan-tg1-large'\n",
    "accept = 'application/json' \n",
    "content_type = 'application/json'\n",
    "\n",
    "#invoke the model with a streamed response \n",
    "response = bedrock_runtime_client.invoke_model_with_response_stream(\n",
    "    body=body, \n",
    "    modelId=model_id, \n",
    "    accept=accept, \n",
    "    contentType=content_type\n",
    ")\n",
    "\n",
    "for event in response['body']:\n",
    "    data = json.loads(event['chunk']['bytes'])\n",
    "    print(data['outputText'])"
   ]
  },
  {
   "cell_type": "code",
   "execution_count": null,
   "metadata": {},
   "outputs": [],
   "source": [
    "# titan embedding - embed `prompt` and print\n",
    "\n",
    "# Define prompt and model parameters\n",
    "prompt_data = \"\"\"Write me a poem about apples\"\"\"\n",
    "\n",
    "body = json.dumps({\n",
    "    \"inputText\": prompt_data,\n",
    "})\n",
    "\n",
    "model_id = 'amazon.titan-embed-g1-text-02' #look for embeddings in the modelID\n",
    "accept = 'application/json' \n",
    "content_type = 'application/json'\n",
    "\n",
    "# Invoke model \n",
    "response = bedrock_runtime_client.invoke_model(\n",
    "    body=body, \n",
    "    modelId=model_id, \n",
    "    accept=accept, \n",
    "    contentType=content_type\n",
    ")\n",
    "\n",
    "# Print response\n",
    "response_body = json.loads(response['body'].read())\n",
    "embedding = response_body.get('embedding')\n",
    "\n",
    "#Print the Embedding\n",
    "\n",
    "print(embedding)"
   ]
  },
  {
   "cell_type": "code",
   "execution_count": null,
   "metadata": {},
   "outputs": [],
   "source": [
    "# langchain bedrock integration\n",
    "from langchain_community.llms import Bedrock\n",
    "import os\n",
    "\n",
    "llm = Bedrock(\n",
    "    credentials_profile_name=os.environ['AWS_PROFILE_NAME'], model_id=\"amazon.titan-text-express-v1\"\n",
    ")\n",
    "\n",
    "llm.invoke('who are you?')\n",
    "\n",
    "from langchain.chains import ConversationChain\n",
    "from langchain.memory import ConversationBufferMemory\n",
    "\n",
    "conversation = ConversationChain(\n",
    "    llm=llm, verbose=True, memory=ConversationBufferMemory()\n",
    ")\n",
    "\n",
    "conversation.predict(input=\"what is the weather in philly\")\n",
    "conversation.predict(input=\"what is the population there?\")\n",
    "conversation.predict(input=\"who are famous actors from there?\")\n",
    "conversation.predict(input=\"what is the the most famous food there?\")"
   ]
  },
  {
   "cell_type": "code",
   "execution_count": null,
   "metadata": {},
   "outputs": [],
   "source": []
  }
 ],
 "metadata": {
  "kernelspec": {
   "display_name": ".venv",
   "language": "python",
   "name": "python3"
  },
  "language_info": {
   "codemirror_mode": {
    "name": "ipython",
    "version": 3
   },
   "file_extension": ".py",
   "mimetype": "text/x-python",
   "name": "python",
   "nbconvert_exporter": "python",
   "pygments_lexer": "ipython3",
   "version": "3.11.5"
  }
 },
 "nbformat": 4,
 "nbformat_minor": 2
}
